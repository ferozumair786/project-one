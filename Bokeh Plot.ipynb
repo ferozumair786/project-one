{
 "cells": [
  {
   "cell_type": "code",
   "execution_count": 8,
   "metadata": {},
   "outputs": [
    {
     "name": "stdout",
     "output_type": "stream",
     "text": [
      "['name', 'concentration']\n"
     ]
    }
   ],
   "source": [
    "from bokeh.models import LogColorMapper\n",
    "from bokeh.palettes import Viridis256 as palette\n",
    "from bokeh.plotting import figure, show\n",
    "from bokeh.sampledata.us_counties import data as counties\n",
    "import csv\n",
    "\n",
    "pharmacy_concentration = {}\n",
    "with open('unemployment.csv', mode = 'r') as infile:\n",
    "    reader = [row for row in csv.reader(infile.read().splitlines())]\n",
    "    for row in reader:\n",
    "        try:\n",
    "            county_name, concentration = row\n",
    "            pharmacy_concentration[county_name] = float(concentration)\n",
    "        except Exception:\n",
    "            print(row)\n",
    "\n",
    "counties = { code: county for code, county in counties.items() if county[\"state\"] == \"tx\" }\n",
    "county_xs = [county[\"lons\"] for county in counties.values()]\n",
    "county_ys = [county[\"lats\"] for county in counties.values()]\n",
    "county_names = [county['name'] for county in counties.values()]\n",
    "county_pharmacy_concentration_rates = [pharmacy_concentration[counties[county]['name']] \n",
    "                                       for county in counties if counties[county]['name'] \n",
    "                                       in pharmacy_concentration]\n",
    "palette.reverse()\n",
    "color_mapper = LogColorMapper(palette = palette)\n",
    "\n",
    "data = dict(x = county_xs, y = county_ys, name = county_names, rate = county_pharmacy_concentration_rates)\n",
    "p = figure(title = \"Texas Pharmacy Concentration\", tools = \"pan,wheel_zoom,reset,hover,save\", \n",
    "           tooltips = [(\"Name\", \"@name\"), (\"Pharmacy Concentration)\", \"@rate%\"), \n",
    "                       (\"(Long, Lat)\", \"($x, $y)\")], x_axis_location = None, y_axis_location = None,)\n",
    "p.grid.grid_line_color = None\n",
    "p.hover.point_policy = \"follow_mouse\"\n",
    "p.patches('x', 'y', source = data, fill_color = {'field': 'rate', 'transform': color_mapper}, \n",
    "          fill_alpha = 1.0, line_color = \"white\", line_width = 0.5)\n",
    "\n",
    "show(p)"
   ]
  },
  {
   "cell_type": "code",
   "execution_count": null,
   "metadata": {},
   "outputs": [],
   "source": []
  }
 ],
 "metadata": {
  "kernelspec": {
   "display_name": "Python 3",
   "language": "python",
   "name": "python3"
  },
  "language_info": {
   "codemirror_mode": {
    "name": "ipython",
    "version": 3
   },
   "file_extension": ".py",
   "mimetype": "text/x-python",
   "name": "python",
   "nbconvert_exporter": "python",
   "pygments_lexer": "ipython3",
   "version": "3.7.0"
  }
 },
 "nbformat": 4,
 "nbformat_minor": 2
}
